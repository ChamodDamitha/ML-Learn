{
 "cells": [
  {
   "cell_type": "code",
   "execution_count": 1,
   "metadata": {},
   "outputs": [],
   "source": [
    "import numpy as np\n",
    "import pandas as pd\n",
    "\n",
    "import matplotlib\n",
    "from matplotlib import pyplot as plt\n",
    "# import seaborn as sns\n",
    "%matplotlib inline\n",
    "%config InlineBackend.figure_format = 'retina'\n",
    "\n",
    "## Loading data\n",
    "\n",
    "ls\n",
    "\n",
    "data = pd.read_csv(\"train.csv\")\n",
    "\n",
    "data.head()\n",
    "\n",
    "data.shape\n",
    "\n",
    "**Prediction classes**\n",
    "\n",
    "data['author'].unique()\n",
    "\n",
    "EAP_len = data[data['author'] == 'EAP'].shape[0]\n",
    "HPL_len = data[data['author'] == 'HPL'].shape[0]\n",
    "MWS_len = data[data['author'] == 'MWS'].shape[0]\n",
    "\n",
    "plt.bar(10, EAP_len, label='EAP')\n",
    "plt.bar(11, HPL_len, label='HPL')\n",
    "plt.bar(12, MWS_len, label='MWS')\n",
    "\n",
    "plt.ylabel('Number of samples')\n",
    "\n",
    "plt.legend()\n",
    "plt.show()\n",
    "\n",
    "## Feature Engineering\n",
    "\n",
    "**Remove Punctutations**\n",
    "\n",
    "import string\n",
    "\n",
    "def remove_punctuation(text):\n",
    "    translator = str.maketrans('','', string.punctuation)\n",
    "    return text.translate(translator)\n",
    "\n",
    "data['text'] = data['text'].apply(remove_punctuation)"
   ]
  }
 ],
 "metadata": {
  "kernelspec": {
   "display_name": "Python 2",
   "language": "python",
   "name": "python2"
  },
  "language_info": {
   "codemirror_mode": {
    "name": "ipython",
    "version": 2
   },
   "file_extension": ".py",
   "mimetype": "text/x-python",
   "name": "python",
   "nbconvert_exporter": "python",
   "pygments_lexer": "ipython2",
   "version": "2.7.15rc1"
  }
 },
 "nbformat": 4,
 "nbformat_minor": 2
}
